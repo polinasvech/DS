{
  "nbformat": 4,
  "nbformat_minor": 0,
  "metadata": {
    "colab": {
      "name": "resume.ipynb",
      "provenance": [],
      "collapsed_sections": [],
      "authorship_tag": "ABX9TyOmLZ/mLJ5lSOMMB1U5E8aB",
      "include_colab_link": true
    },
    "kernelspec": {
      "name": "python3",
      "display_name": "Python 3"
    }
  },
  "cells": [
    {
      "cell_type": "markdown",
      "metadata": {
        "id": "view-in-github",
        "colab_type": "text"
      },
      "source": [
        "<a href=\"https://colab.research.google.com/github/polinasvech/DS/blob/master/resume.ipynb\" target=\"_parent\"><img src=\"https://colab.research.google.com/assets/colab-badge.svg\" alt=\"Open In Colab\"/></a>"
      ]
    },
    {
      "cell_type": "code",
      "metadata": {
        "id": "2dVDUmbRp0mR"
      },
      "source": [
        "# https://jsfiddle.net/"
      ],
      "execution_count": null,
      "outputs": []
    },
    {
      "cell_type": "code",
      "metadata": {
        "id": "BnmgaSDPRT50"
      },
      "source": [
        "#задание 1"
      ],
      "execution_count": null,
      "outputs": []
    },
    {
      "cell_type": "code",
      "metadata": {
        "id": "EFTxLs6q8ztx"
      },
      "source": [
        "class Project(object):\n",
        "    def __init__(self, name, category='unsorted'):\n",
        "        self.name = name.strip()\n",
        "        self.category = category.strip().strip('/')\n",
        "    def get_display_name(self):\n",
        "         return '%s / %s' % (self.category, self.name)"
      ],
      "execution_count": null,
      "outputs": []
    },
    {
      "cell_type": "code",
      "metadata": {
        "id": "2goI0mTN9XAy"
      },
      "source": [
        "class Customer(Project):\n",
        "  def __init__(self, name, customer_name, category='unsorted'):\n",
        "    super().__init__(name)\n",
        "    super().__init__(category)\n",
        "    self.customer_name = customer_name.strip()\n",
        "\n",
        "  def get_display(self):\n",
        "    return '%s / %s (%s)' % (self.category, self.name, self.customer_name)"
      ],
      "execution_count": null,
      "outputs": []
    },
    {
      "cell_type": "code",
      "metadata": {
        "colab": {
          "base_uri": "https://localhost:8080/",
          "height": 36
        },
        "id": "IRU2_HJxBI9T",
        "outputId": "19b114fd-4784-4cea-c3fa-fa039657da7e"
      },
      "source": [
        "vasya = Customer('uralvagonzavod', 'Vasya Pupkin', 'odoo')\n",
        "vasya.get_display()"
      ],
      "execution_count": null,
      "outputs": [
        {
          "output_type": "execute_result",
          "data": {
            "application/vnd.google.colaboratory.intrinsic+json": {
              "type": "string"
            },
            "text/plain": [
              "'unsorted / odoo (Vasya Pupkin)'"
            ]
          },
          "metadata": {
            "tags": []
          },
          "execution_count": 6
        }
      ]
    },
    {
      "cell_type": "code",
      "metadata": {
        "id": "5QjACK2aRWYf"
      },
      "source": [
        "#задание 2"
      ],
      "execution_count": null,
      "outputs": []
    },
    {
      "cell_type": "code",
      "metadata": {
        "id": "o1kpkvgeRZwA"
      },
      "source": [
        "import slugify\n",
        "\n",
        "def to_url(id, name=None):\n",
        "    slugname = slugify.slugify(name or '').strip().strip('-')\n",
        "    if not slugname:\n",
        "        return str(id)\n",
        "    return \"%s-%d\" % (slugname, id)"
      ],
      "execution_count": null,
      "outputs": []
    },
    {
      "cell_type": "code",
      "metadata": {
        "colab": {
          "base_uri": "https://localhost:8080/"
        },
        "id": "seAmFK2AcNrr",
        "outputId": "c743b203-06c9-4bd0-d175-8e2f0ea018c7"
      },
      "source": [
        "import re\n",
        "reg = '([\\w-]+-)?\\d+'\n",
        "print(re.match(reg, to_url(1)).group(0))\n",
        "# print(to_url(3, 'некоторый продукт'))"
      ],
      "execution_count": null,
      "outputs": [
        {
          "output_type": "stream",
          "text": [
            "1\n"
          ],
          "name": "stdout"
        }
      ]
    },
    {
      "cell_type": "code",
      "metadata": {
        "id": "jLCaLcCJTiVr"
      },
      "source": [
        "reg = '([\\w-]+-)?\\d+'\n",
        "\n",
        "def get_id(url):\n",
        "  if re.match(reg, url) is not None:\n",
        "    if re.search('-', url) is not None:\n",
        "      url = re.split('-', url)\n",
        "      return url[-1]\n",
        "    else:\n",
        "      return url\n",
        "  return None"
      ],
      "execution_count": null,
      "outputs": []
    },
    {
      "cell_type": "code",
      "metadata": {
        "colab": {
          "base_uri": "https://localhost:8080/"
        },
        "id": "yCAlz2uyGSzN",
        "outputId": "1c39d562-4660-400a-b3c4-8c1656af2457"
      },
      "source": [
        "a = get_id(to_url(58, 'интересное тестовое задание'))\n",
        "print(a)"
      ],
      "execution_count": null,
      "outputs": [
        {
          "output_type": "stream",
          "text": [
            "58\n"
          ],
          "name": "stdout"
        }
      ]
    },
    {
      "cell_type": "code",
      "metadata": {
        "id": "IFck8a4uIOO0"
      },
      "source": [
        "#задание 3"
      ],
      "execution_count": null,
      "outputs": []
    },
    {
      "cell_type": "code",
      "metadata": {
        "id": "WBuBPRFEIUvv"
      },
      "source": [
        "<form string=\"Note\" class=\"oe_form_nomargin\">\n",
        "  <header>\n",
        "    <field name=\"tag_ids\" widget=\"many2many_tags\" class=\"oe_inline\" placeholder=\"Tags\"/>\n",
        "    <field name=\"stage_id\" domain=\"[('user_id','=',uid)]\" widget=\"statusbar\" clickable=\"1\"/>\n",
        "  </header>\n",
        "  <field name=\"memo\" widget=\"html\" class=\"oe_memo\" editor_height=\"450px\" />\n",
        "  <div class=\"oe_chatter\">\n",
        "    <field name=\"message_follower_ids\" widget=\"mail_followers\"/>\n",
        "    <field name=\"message_ids\" widget=\"mail_thread\"/>\n",
        "  </div>\n",
        "</form>"
      ],
      "execution_count": null,
      "outputs": []
    },
    {
      "cell_type": "code",
      "metadata": {
        "id": "lTgkzN5KQH-t"
      },
      "source": [
        " <xpath expr=\"//field[@name='memo']\">"
      ],
      "execution_count": null,
      "outputs": []
    },
    {
      "cell_type": "code",
      "metadata": {
        "id": "-v4IUw27Q6nT"
      },
      "source": [
        "#задание 4 "
      ],
      "execution_count": null,
      "outputs": []
    },
    {
      "cell_type": "code",
      "metadata": {
        "id": "kdub07nEMNHq"
      },
      "source": [
        "var element = document.querySelector(\"ul.nav > li:nth-of-type(5) > a > span\");\n",
        "element.textContent = element.textContent.replace('Contact us', 'Контакты');"
      ],
      "execution_count": null,
      "outputs": []
    },
    {
      "cell_type": "code",
      "metadata": {
        "id": "KZQF3mwUktye"
      },
      "source": [
        "#задание 5"
      ],
      "execution_count": null,
      "outputs": []
    },
    {
      "cell_type": "code",
      "metadata": {
        "id": "a3w2lofgkwlY"
      },
      "source": [
        ".container{\n",
        "background-color:red;\n",
        "width:500px;\n",
        "height:500px;\n",
        "}\n",
        ".child{\n",
        "position:relative;\n",
        "background-color:green;\n",
        "width:50px;\n",
        "height:50px;\n",
        "bottom:-450px;\n",
        "right:-450px;\n",
        "}"
      ],
      "execution_count": null,
      "outputs": []
    },
    {
      "cell_type": "code",
      "metadata": {
        "id": "Tdnz6wtjW1Vc"
      },
      "source": [
        "#задание 6"
      ],
      "execution_count": null,
      "outputs": []
    },
    {
      "cell_type": "code",
      "metadata": {
        "id": "ijQSygJgYWBf"
      },
      "source": [
        "<body>\n",
        " <?php\n",
        "$form_type = 'student';\n",
        "?> \n",
        "\n",
        "<h1> Form for <?php echo $form_type; ?>  </h1>\n",
        "\n",
        "<form class=\"<?php echo $form_type; ?>\">\n",
        "\n",
        "  <div class=\"form-group\">\n",
        "    <label for=\"Name\">Name</label>\n",
        "    <input type=\"text\" class=\"form-control\" id=\"Name\" >\n",
        "  </div>\n",
        "\n",
        "  <div class=\"form-group\">\n",
        "    <label for=\"Birthdate\">Birthdate</label>\n",
        "    <input type=\"text\" class=\"form-control\" id=\"Birthdate\" >\n",
        "  </div>\n",
        "\n",
        "  <div class=\"form-group\">\n",
        "    <label for=\"Address\">Address</label>\n",
        "    <input type=\"text\" class=\"form-control\" id=\"Address\" >\n",
        "  </div>\n",
        "\n",
        "  <div class=\"form-group\">\n",
        "    <label for=\"Class\">Class</label>\n",
        "    <input type=\"text\" class=\"form-control\" id=\"Class\" >\n",
        "  </div>\n",
        "\n",
        "  <div class=\"form-group\">\n",
        "    <label for=\"Grants\">Grants</label>\n",
        "    <input type=\"text\" class=\"form-control\" id=\"Grants\" >\n",
        "  </div>\n",
        "\n",
        "  <div class=\"form-group\">\n",
        "    <label for=\"Department\">Department</label>\n",
        "    <input type=\"text\" class=\"form-control\" id=\"Department\" >\n",
        "  </div>\n",
        "\n",
        "  <div class=\"form-group\">\n",
        "    <label for=\"Supervisor\">Supervisor</label>\n",
        "    <input type=\"text\" class=\"form-control\" id=\"Supervisor\" >\n",
        "  </div>\n",
        "\n",
        "  <div class=\"form-group\">\n",
        "    <label for=\"Salary\">Salary</label>\n",
        "    <input type=\"text\" class=\"form-control\" id=\"Salary\" >\n",
        "  </div>\n",
        "\n",
        "  <div class=\"form-group\">\n",
        "    <label for=\"Child\">Child</label>\n",
        "    <input type=\"text\" class=\"form-control\" id=\"Child\" >\n",
        "  </div>\n",
        "\n",
        "  <div class=\"form-group\">\n",
        "    <label for=\"Profession\">Profession</label>\n",
        "    <input type=\"text\" class=\"form-control\" id=\"Profession\" >\n",
        "  </div>\n",
        "\n",
        "</form>\n",
        "\n",
        "<body>"
      ],
      "execution_count": null,
      "outputs": []
    },
    {
      "cell_type": "code",
      "metadata": {
        "id": "_S9Rcjf4YWnd"
      },
      "source": [
        "/* student */\n",
        "\n",
        ".student > div > #Supervisor {  display: none;  }\n",
        ".student > div > label[for=\"Supervisor\"] {  display: none;  }\n",
        "\n",
        ".student > div > #Salary {  display: none;  }\n",
        ".student > div > label[for=\"Salary\"] {  display: none;  }\n",
        "\n",
        ".student > div > #Child {  display: none;  }\n",
        ".student > div > label[for=\"Child\"] {  display: none;  }\n",
        "\n",
        ".student > div > #Profession {  display: none;  }\n",
        ".student > div > label[for=\"Profession\"] {  display: none;  }\n",
        "\n",
        "/* teacher */\n",
        "\n",
        ".teacher > div > #Class {  display: none;  }\n",
        ".teacher > div > label[for=\"Class\"] {  display: none;  }\n",
        "\n",
        ".teacher > div > #Grants {  display: none;  }\n",
        ".teacher > div > label[for=\"Grants\"] {  display: none;  }\n",
        "\n",
        ".teacher > div > #Child {  display: none;  }\n",
        ".teacher > div > label[for=\"Child\"] {  display: none;  }\n",
        "\n",
        ".teacher > div > #Profession {  display: none;  }\n",
        ".teacher > div > label[for=\"Profession\"] {  display: none;  }\n",
        "\n",
        "/* parent */\n",
        "\n",
        ".parent > div > #Department {  display: none;  }\n",
        ".parent > div > label[for=\"Department\"] {  display: none;  }\n",
        "\n",
        ".parent > div > #Class {  display: none;  }\n",
        ".parent > div > label[for=\"Class\"] {  display: none;  }\n",
        "\n",
        ".parent > div > #Grants {  display: none;  }\n",
        ".parent > div > label[for=\"Grants\"] {  display: none;  }\n",
        "\n",
        ".parent > div > #Grants {  display: none;  }\n",
        ".parent > div > label[for=\"Grants\"] {  display: none;  }\n",
        "\n",
        ".parent > div > #Supervisor {  display: none;  }\n",
        ".parent > div > label[for=\"Supervisor\"] {  display: none;  }"
      ],
      "execution_count": null,
      "outputs": []
    },
    {
      "cell_type": "code",
      "metadata": {
        "id": "dIrhuIbvpy10"
      },
      "source": [
        "#задание 7"
      ],
      "execution_count": null,
      "outputs": []
    },
    {
      "cell_type": "markdown",
      "metadata": {
        "id": "LE6n2Z9hvDiL"
      },
      "source": [
        "http://localhost:8069/web?debug=1#menu_id=151&action=156\n",
        "\n",
        "http://102762-8-0-aabbdc.runbot8.odoo.com/web?debug=1&db=102762-8-0-aabbdc-all#menu_id=151&action=156&debug=1\n"
      ]
    },
    {
      "cell_type": "code",
      "metadata": {
        "id": "MA7Hilnw1Xtp"
      },
      "source": [
        "#задание 8"
      ],
      "execution_count": null,
      "outputs": []
    },
    {
      "cell_type": "code",
      "metadata": {
        "id": "xnzt5Y0w1Z0U"
      },
      "source": [
        "$ tail -f /var/log/odoo/odoo-server.log "
      ],
      "execution_count": null,
      "outputs": []
    }
  ]
}